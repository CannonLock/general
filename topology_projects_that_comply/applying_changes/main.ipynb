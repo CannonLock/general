{
 "cells": [
  {
   "cell_type": "code",
   "execution_count": 144,
   "id": "initial_id",
   "metadata": {
    "collapsed": true,
    "ExecuteTime": {
     "end_time": "2023-11-29T15:10:44.662320Z",
     "start_time": "2023-11-29T15:10:44.623126Z"
    }
   },
   "outputs": [],
   "source": [
    "import glob\n",
    "\n",
    "import yaml\n",
    "import pandas as pd\n",
    "import numpy as np"
   ]
  },
  {
   "cell_type": "markdown",
   "source": [
    "# Field of Science Report\n",
    "\n",
    "This report is to show the current state of Topology projects Fields of Science and inform next steps.\n",
    "\n",
    "## Current State\n",
    "\n",
    "Fields of Science are taken from the project giles in Topology and mapped with a [mapping file](https://github.com/opensciencegrid/topology/blob/5248f5e2322f711b28ce767a0348564e65907aec/mappings/nsfscience.yaml). \n",
    "\n",
    "The mapping file on Topology maps the NSF fields from the yaml to a NSF defined Field of Science. These NSF Fields of Science originate in this [pdf](../nsf_fos.pdf). The mapping file is not strict in its adherence to this PDF and has some additional fields and casing inconsistencies.\n",
    "\n",
    "### Update all the Fields of Science to adhere to the original NSF PDF\n",
    "\n",
    "Below are the steps to correct the Fields of Science for all projects in their project yaml files to those specified in the original NSF PDF. \n",
    "\n",
    "The result of the code below is a [PR](https://github.com/opensciencegrid/topology/pull/3500).\n",
    "\n",
    "### Update \n",
    "\n",
    "as well as the newest version of the [NSF Field of Study](https://ncses.nsf.gov/pubs/nsf24300/assets/technical-notes/tables/nsf24300-taba-005.xlsx).\n"
   ],
   "metadata": {
    "collapsed": false
   },
   "id": "a7c1effdcca413a8"
  },
  {
   "cell_type": "code",
   "execution_count": 2,
   "outputs": [],
   "source": [
    "PROJECT_PATH = \"/Users/clock/PycharmProjects/topology/projects\"\n",
    "NSF_MAPPING_PATH = \"/Users/clock/PycharmProjects/topology/mappings/nsfscience.yaml\"\n",
    "\n",
    "VALID_FIELDS_FROM_PDF = [\n",
    "    \"Agricultural sciences\",\n",
    "    \"Biological sciences\",\n",
    "    \"Atmospheric sciences\",\n",
    "    \"Earth and ocean sciences\",\n",
    "    \"Computer sciences\",\n",
    "    \"Mathematics\",\n",
    "    \"Astronomy\",\n",
    "    \"Chemistry\",\n",
    "    \"Physics\",\n",
    "    \"Other physical sciences\",\n",
    "    \"Psychology\",\n",
    "    \"Economics\",\n",
    "    \"Political science\",\n",
    "    \"Sociology\",\n",
    "    \"Other social sciences\",\n",
    "    \"Aeronautical/Astronautical engineering\",\n",
    "    \"Chemical engineering\",\n",
    "    \"Civil engineering\",\n",
    "    \"Electrical, electronics and communications engineering\",\n",
    "    \"Industrial and manufacturing engineering\",\n",
    "    \"Materials science engineering\",\n",
    "    \"Mechanical engineering\",\n",
    "    \"Other engineering\",\n",
    "    \"Engineering technology\",\n",
    "    \"Health\",\n",
    "    \"Education\",\n",
    "    \"Humanities\",\n",
    "    \"Business management/administration\",\n",
    "    \"Communication\",\n",
    "    \"Other non-science and engineering/unknown\",\n",
    "    \"Multidisciplinary/ interdisciplinary sciences\" # Not from original PDF but from the newest NSF Field of Study\n",
    "]"
   ],
   "metadata": {
    "collapsed": false,
    "ExecuteTime": {
     "end_time": "2024-01-26T15:14:41.672890Z",
     "start_time": "2024-01-26T15:14:41.669710Z"
    }
   },
   "id": "c294b0703e026081"
  },
  {
   "cell_type": "code",
   "execution_count": 146,
   "outputs": [],
   "source": [
    "def strip_extension(file_name):\n",
    "    return \".\".join(file_name.split(\".\")[:-1])\n",
    "\n",
    "def file_path_to_file_name(file_path):\n",
    "    return file_path.split(\"/\")[-1]"
   ],
   "metadata": {
    "collapsed": false,
    "ExecuteTime": {
     "end_time": "2023-11-29T15:10:44.717319Z",
     "start_time": "2023-11-29T15:10:44.630723Z"
    }
   },
   "id": "b9b2da45c7e9edeb"
  },
  {
   "cell_type": "code",
   "execution_count": 147,
   "outputs": [
    {
     "name": "stdout",
     "output_type": "stream",
     "text": [
      "Error in : mapping values are not allowed here\n",
      "  in \"/Users/clock/PycharmProjects/topology/projects/NCSU_2023_Hall\", line 1, column 282\n"
     ]
    }
   ],
   "source": [
    "project_paths = glob.glob(f\"{PROJECT_PATH}/*\")\n",
    "\n",
    "# Build the project DataFrame\n",
    "PROJECT_VALUE_KEYS = [\"ID\", \"Name\", \"PIName\", \"Department\", \"FieldOfScience\"]\n",
    "project_list = [[\"File\", *PROJECT_VALUE_KEYS]]\n",
    "for project_path in project_paths:\n",
    "    \n",
    "    project_file_name = strip_extension(file_path_to_file_name(project_path))\n",
    "    \n",
    "    try:\n",
    "        project = yaml.load(open(project_path, \"r\"), Loader=yaml.FullLoader)\n",
    "        project_list.append([project_file_name, *map(lambda x: project.get(x, None), PROJECT_VALUE_KEYS)])\n",
    "\n",
    "    except Exception as e:\n",
    "        print(f\"Error in {project_file_name}: {e}\")\n",
    "\n",
    "project_df = pd.DataFrame(project_list[1:], columns=project_list[0])\n"
   ],
   "metadata": {
    "collapsed": false,
    "ExecuteTime": {
     "end_time": "2023-11-29T15:10:45.224962Z",
     "start_time": "2023-11-29T15:10:44.638274Z"
    }
   },
   "id": "e88c42a4ab42048"
  },
  {
   "cell_type": "code",
   "execution_count": 148,
   "outputs": [
    {
     "name": "stdout",
     "output_type": "stream",
     "text": [
      "Final Field of Science is still missing for 893/1093 projects.\n"
     ]
    }
   ],
   "source": [
    "# Start the final Field of Science column\n",
    "project_df[\"FinalFieldOfScience\"] = project_df[\"FieldOfScience\"].apply(lambda x: x if x in VALID_FIELDS_FROM_PDF else np.nan)\n",
    "\n",
    "print(f\"Final Field of Science is still missing for {project_df['FinalFieldOfScience'].isna().sum()}/{len(project_df['FinalFieldOfScience'])} projects.\")"
   ],
   "metadata": {
    "collapsed": false,
    "ExecuteTime": {
     "end_time": "2023-11-29T15:10:45.232076Z",
     "start_time": "2023-11-29T15:10:45.229520Z"
    }
   },
   "id": "2b393abc9d7885f9"
  },
  {
   "cell_type": "code",
   "execution_count": 149,
   "outputs": [
    {
     "name": "stdout",
     "output_type": "stream",
     "text": [
      "Mapped an additional 107 Fields of Science with incorrect casing.\n",
      "Final Field of Science is still missing for 786/1093 projects.\n"
     ]
    }
   ],
   "source": [
    "# Add the columns whose casing does not match\n",
    "VALID_FIELDS_FROM_PDF_LOWER_MAP = {v.lower(): v for v in VALID_FIELDS_FROM_PDF}\n",
    "project_df[\"FieldOfScienceIsCorrectCasingIndependent\"] = project_df[\"FieldOfScience\"].str.lower().isin(VALID_FIELDS_FROM_PDF_LOWER_MAP) & project_df[\"FinalFieldOfScience\"].isna()\n",
    "project_df[\"FinalFieldOfScience\"] = project_df[\"FinalFieldOfScience\"].fillna(project_df[\"FieldOfScience\"].apply(lambda x: VALID_FIELDS_FROM_PDF_LOWER_MAP[x.lower()] if isinstance(x, str) and x.lower() in VALID_FIELDS_FROM_PDF_LOWER_MAP else np.nan))\n",
    "\n",
    "# Matching Stats\n",
    "print(f\"Mapped an additional {project_df['FieldOfScienceIsCorrectCasingIndependent'].sum()} Fields of Science with incorrect casing.\")\n",
    "print(f\"Final Field of Science is still missing for {project_df['FinalFieldOfScience'].isna().sum()}/{len(project_df['FinalFieldOfScience'])} projects.\")\n"
   ],
   "metadata": {
    "collapsed": false,
    "ExecuteTime": {
     "end_time": "2023-11-29T15:10:45.242958Z",
     "start_time": "2023-11-29T15:10:45.235850Z"
    }
   },
   "id": "f71fad44891668fc"
  },
  {
   "cell_type": "code",
   "execution_count": 150,
   "outputs": [
    {
     "name": "stdout",
     "output_type": "stream",
     "text": [
      "Mapped an additional 853 Fields of Science that were mapped correctly in the original mapping file.\n",
      "Final Field of Science is still missing for 182/1093 projects.\n"
     ]
    }
   ],
   "source": [
    "# Add the rows who can be mapped\n",
    "NSF_MAPPING = yaml.load(open(NSF_MAPPING_PATH, \"r\"), Loader=yaml.FullLoader)\n",
    "\n",
    "project_df[\"FieldOfScienceViaMappingFile\"] = project_df[\"FieldOfScience\"].map(NSF_MAPPING).str.lower().map(VALID_FIELDS_FROM_PDF_LOWER_MAP).isin(VALID_FIELDS_FROM_PDF)\n",
    "project_df[\"FinalFieldOfScience\"] = project_df[\"FinalFieldOfScience\"].fillna(project_df[\"FieldOfScience\"].map(NSF_MAPPING).str.lower().map(VALID_FIELDS_FROM_PDF_LOWER_MAP))\n",
    "\n",
    "# Matching Stats\n",
    "print(f\"Mapped an additional {project_df['FieldOfScienceViaMappingFile'].sum()} Fields of Science that were mapped correctly in the original mapping file.\")\n",
    "print(f\"Final Field of Science is still missing for {project_df['FinalFieldOfScience'].isna().sum()}/{len(project_df['FinalFieldOfScience'])} projects.\")\n"
   ],
   "metadata": {
    "collapsed": false,
    "ExecuteTime": {
     "end_time": "2023-11-29T15:10:45.269839Z",
     "start_time": "2023-11-29T15:10:45.241037Z"
    }
   },
   "id": "6c4ffc356b7451b1"
  },
  {
   "cell_type": "code",
   "execution_count": 151,
   "outputs": [
    {
     "name": "stdout",
     "output_type": "stream",
     "text": [
      "Remaining Fields of Science that are not valid: 64\n"
     ]
    }
   ],
   "source": [
    "print(f\"Remaining Fields of Science that are not valid: {len(project_df[project_df['FinalFieldOfScience'].isna()]['FieldOfScience'].unique())}\")"
   ],
   "metadata": {
    "collapsed": false,
    "ExecuteTime": {
     "end_time": "2023-11-29T15:10:45.270393Z",
     "start_time": "2023-11-29T15:10:45.252165Z"
    }
   },
   "id": "b673a1a58bfeef53"
  },
  {
   "cell_type": "code",
   "execution_count": 152,
   "outputs": [],
   "source": [
    "HAND_MAPPING = {\n",
    "    'NSF RAPTOR Project / Computer and Information Systems': \"Computer sciences\", \n",
    "    'Training': None, \n",
    "    'Cell Biology': \"Biological sciences\", \n",
    "    'Materials Science': \"Materials science engineering\", \n",
    "    'Computer and Information Sciences': \"Computer sciences\", \n",
    "    'Visual Arts': \"Humanities\", \n",
    "    'Electrical, Electronic, and Communications': \"Electrical, electronics and communications engineering\", \n",
    "    'Research Computing': \"Computer sciences\", \n",
    "    'Natural Resources and Conservation': \"Agricultural sciences\", \n",
    "    'Life Sciences - Biological and Biomedical': \"Biological sciences\", \n",
    "    'Other': None, \n",
    "    'Multi-Science Community': None, \n",
    "    'Data Science': \"Computer sciences\", \n",
    "    'Engineering': None, \n",
    "    'Elementary Particle Physics': \"Physics\", \n",
    "    'Appleid Mathematics': \"Mathematics\", \n",
    "    'Astronomy & Astrophysics': \"Astronomy\", \n",
    "    'Computer and Computation Research': \"Computer sciences\", \n",
    "    'Health Sciences': \"Health\", \n",
    "    'Multidisciplinary': None, \n",
    "    'Business': \"Business management/administration\", \n",
    "    'Engineering Systems': \"Electrical, electronics and communications engineering\", \n",
    "    'Atmospheric Science and Meteorology': \"Atmospheric sciences\", \n",
    "    'Social, Behavioral & Economic Sciences': \"Psychology\", # Looked up their project and they are in the Psychology Department\n",
    "    'Computer and Information Science': \"Computer sciences\", \n",
    "    'Robotics': \"Engineering technology\", \n",
    "    'Integrative Activities': None, \n",
    "    'Applied Computer Science': \"Computer sciences\", \n",
    "    'Computer and information services': \"Computer sciences\", \n",
    "    'Physics, Particle Physics, High Energy Physics': \"Physics\", \n",
    "    'Genetics': \"Biological sciences\", \n",
    "    'Neuroscience, biomechanics, microscopy': \"Biological sciences\", \n",
    "    'Biomedical Engineering': \"Other engineering\", \n",
    "    'Earth Science': \"Earth and ocean sciences\", \n",
    "    'Electrical, Electronic, and Communications Engineering': \"Electrical, electronics and communications engineering\", \n",
    "    'Aerospace, Aeronautical, and Astronautical Engineering': \"Aeronautical/Astronautical engineering\", \n",
    "    'Science and Engineering Education': \"Education\", \n",
    "    'Radiological Science': \"Health\", \n",
    "    'Biological and Biomedical Sciences/Biophysics': \"Biological sciences\",\n",
    "    'Mathmatics and Statistics': \"Mathematics\",\n",
    "    'Physics and radiation therapy': \"Health\",\n",
    "    'Social Sciences': \"Political science\", # Googled the PI: https://polisci.northwestern.edu/people/core-faculty/brian-libgober.html\n",
    "    'Materials Engineering': \"Materials science engineering\",\n",
    "    'Geosciences': \"Earth and ocean sciences\", \n",
    "    'Bioengineering & Biomedical Engineering': \"Other engineering\", # Direct match, but more descriptive is \"Biological sciences\"\n",
    "    'Psychology and Life Sciences': \"Psychology\",\n",
    "    'Structural Biology/Biophysics': \"Biological sciences\",\n",
    "    'Computer Architecture/Computer Engineering': \"Computer sciences\", \n",
    "    'Mathematics and Statistics': \"Mathematics\",\n",
    "    'Condensed Matter and Materials Physics': \"Physics\", \n",
    "    'Life Sciences. Other Sciences': \"Biological sciences\", # Project is in the Biological Sciences department \n",
    "    'Atomic Physics': \"Physics\", \n",
    "    'Behavioral Science': \"Other social sciences\", \n",
    "    'Computer & Information Science & Engineering': \"Computer sciences\",\n",
    "    'Statistics and Probability': \"Mathematics\", \n",
    "    'Biology': \"Biological sciences\", \n",
    "    'Electrical Engineering': \"Electrical, electronics and communications engineering\", \n",
    "    None: None, \n",
    "    'Machine Learning/AI': \"Computer sciences\",\n",
    "    'Materials Research': \"Materials science engineering\", \n",
    "    'Ocean Sciences and Marine Sciences': \"Earth and ocean sciences\", \n",
    "    'Medical (NIH)': \"Health\", \n",
    "    'Other Engineering and Technologies': \"Other engineering\", \n",
    "    'Agricultural Sciences specifically Poultry Science': \"Agricultural sciences\"\n",
    "}"
   ],
   "metadata": {
    "collapsed": false,
    "ExecuteTime": {
     "end_time": "2023-11-29T15:10:45.270656Z",
     "start_time": "2023-11-29T15:10:45.261136Z"
    }
   },
   "id": "f351d35a53ed2df2"
  },
  {
   "cell_type": "code",
   "execution_count": 153,
   "outputs": [
    {
     "name": "stdout",
     "output_type": "stream",
     "text": [
      "Mapped an additional 109 Fields of Science that were mapped correctly in the original mapping file.\n",
      "Final Field of Science is still missing for 73/1093 projects.\n"
     ]
    }
   ],
   "source": [
    "# Apply the hand mapping\n",
    "project_df[\"FieldOfScienceViaHandMapping\"] = project_df[\"FieldOfScience\"].map(HAND_MAPPING).isin(VALID_FIELDS_FROM_PDF)\n",
    "project_df[\"FinalFieldOfScience\"] = project_df[\"FinalFieldOfScience\"].fillna(project_df[\"FieldOfScience\"].map(HAND_MAPPING))\n",
    "\n",
    "# Matching Stats\n",
    "print(f\"Mapped an additional {project_df['FieldOfScienceViaHandMapping'].sum()} Fields of Science that were mapped correctly in the original mapping file.\")\n",
    "print(f\"Final Field of Science is still missing for {project_df['FinalFieldOfScience'].isna().sum()}/{len(project_df['FinalFieldOfScience'])} projects.\")"
   ],
   "metadata": {
    "collapsed": false,
    "ExecuteTime": {
     "end_time": "2023-11-29T15:10:45.281133Z",
     "start_time": "2023-11-29T15:10:45.268540Z"
    }
   },
   "id": "931712ed60986ed4"
  },
  {
   "cell_type": "markdown",
   "source": [
    "### Remaining Issues\n",
    "\n",
    "Copied from below there are 7 remaining invalid fields of science to handle:\n",
    "```\n",
    "['Training' 'Other' 'Engineering' 'Multi-Science Community' 'Multidisciplinary' 'Integrative Activities' None]\n",
    "```\n",
    "\n",
    "To handle Multi-Science Community and Multidisciplinary we will map them to a field that comes from the most recent NSF Field of Study spreadsheet linked above \"Multidisciplinary/ interdisciplinary sciences\". "
   ],
   "metadata": {
    "collapsed": false
   },
   "id": "a646512977682401"
  },
  {
   "cell_type": "code",
   "execution_count": 154,
   "outputs": [
    {
     "name": "stdout",
     "output_type": "stream",
     "text": [
      "Mapped an additional 21 Fields of Science that were mapped correctly in the original mapping file.\n",
      "Final Field of Science is still missing for 52/1093 projects.\n"
     ]
    }
   ],
   "source": [
    "# Handle Multi-Science Community\n",
    "project_df[\"FieldOfScienceViaMultiScienceCommunity\"] = project_df[\"FieldOfScience\"].isin([\"Multi-Science Community\", \"Multidisciplinary\"])\n",
    "project_df[\"FinalFieldOfScience\"] = project_df[\"FinalFieldOfScience\"].fillna(project_df[\"FieldOfScience\"].map({\"Multi-Science Community\": \"Multidisciplinary/ interdisciplinary sciences\", \"Multidisciplinary\": \"Multidisciplinary/ interdisciplinary sciences\"}))\n",
    "\n",
    "# Matching Stats\n",
    "print(f\"Mapped an additional {project_df['FieldOfScienceViaMultiScienceCommunity'].sum()} Fields of Science that were mapped correctly in the original mapping file.\")\n",
    "print(f\"Final Field of Science is still missing for {project_df['FinalFieldOfScience'].isna().sum()}/{len(project_df['FinalFieldOfScience'])} projects.\")"
   ],
   "metadata": {
    "collapsed": false,
    "ExecuteTime": {
     "end_time": "2023-11-29T15:10:45.281671Z",
     "start_time": "2023-11-29T15:10:45.273736Z"
    }
   },
   "id": "c0731ebeaab1d099"
  },
  {
   "cell_type": "markdown",
   "source": [],
   "metadata": {
    "collapsed": false
   },
   "id": "db30a008bdb49fe6"
  },
  {
   "cell_type": "code",
   "execution_count": 155,
   "outputs": [
    {
     "name": "stdout",
     "output_type": "stream",
     "text": [
      "Mapped an additional 51 Fields of Science that were mapped correctly in the original mapping file.\n",
      "Final Field of Science is still missing for 1/1093 projects.\n"
     ]
    }
   ],
   "source": [
    "# Handle the remaining projects that have to be mapped by hand\n",
    "\n",
    "# Mapping from project file to the correct Field of Science\n",
    "PROJECT_MAPPING = {\n",
    "    'TG-TRA170047': None, # This is an RCF Staff account\n",
    "    'Training-ACE-NIAID': None, # This is an RCF Staff account\n",
    "    'TG-STA110011S': None, # Nothing in project about Field of Science\n",
    "    'TG-TRA150015': None, # This is an RCF Staff account\n",
    "    'TG-TRA180032': None, # This is an RCF Staff account\n",
    "    'TG-TRA120004': None, # This is an RCF Staff account\n",
    "    'KnowledgeLab': \"Computer sciences\",\n",
    "    'TG-TRA220011': None, # This is an RCF Staff account\n",
    "    'TG-TRA160027': None, # This is an RCF Staff account\n",
    "    'TG-TRA150018': None, # This is an RCF Staff account\n",
    "    'NCSU_Staff': None, # This is an RCF Staff account\n",
    "    'TG-TRA140029': None, # This is an RCF Staff account\n",
    "    'Syracuse_ITSRC': None, # This is an RCF Staff account\n",
    "    'TG-STA110014S': None, # This is an RCF Staff account\n",
    "    'TG-TRA220017': None, # This is an RCF Staff account\n",
    "    'TG-TRA130003': None, # This is an RCF Staff account\n",
    "    'TG-TRA090005': None, # This is an RCF Staff account\n",
    "    'PegasusTraining': None, # This is an RCF Staff account\n",
    "    'TG-TRA220014': None, # This is an RCF Staff account\n",
    "    'Rochester_Liu': None, # This is an RCF Staff account\n",
    "    'CampusWorkshop_Feb2021': None, # This is an RCF Staff account\n",
    "    'ConnectTrain': None, # This is an RCF Staff account\n",
    "    'UNI_Staff': None, # This is an RCF Staff account\n",
    "    'TG-TRA100004': None, # This is an RCF Staff account\n",
    "    'OSGUserTrainingPilot': None, # This is an RCF Staff account\n",
    "    'TG-CCR130001': None, # This is an RCF Staff account\n",
    "    'TG-TRA210040': None, # This is an RCF Staff account\n",
    "    'Workshop-RMACC21': None, # This is an RCF Staff account\n",
    "    'UCSD_ResearchIT': None, # This is an RCF Staff account\n",
    "    'UserSchool2016': None, # This is an RCF Staff account\n",
    "    'TG-TRA130007': None, # This is an RCF Staff account\n",
    "    'TG-TRA130011': None, # This is an RCF Staff account\n",
    "    'UChicago-RCC': None, # Unsure what this is but it shouldn't have a FOS\n",
    "    'TG-TRA140036': None, # This is an RCF Staff account\n",
    "    'UWMadison_Negrut': \"Engineering technology\", \n",
    "    'Stanford_Fletcher': \"Engineering technology\", \n",
    "    'GanForAuto': \"Electrical, electronics and communications engineering\", \n",
    "    'ND_Chen': \"Multidisciplinary/ interdisciplinary sciences\", # They do machine learning on health data \n",
    "    'UCSDEngEarthquake': \"Physics\", # Using the department of the project \n",
    "    'UWMadison_Li': \"Mechanical engineering\", \n",
    "    'Clemson_Sarupria': \"Chemical engineering\", \n",
    "    'Stanford_Zia': \"Chemical engineering\", \n",
    "    'UCSD_Shah': \"Other engineering\", \n",
    "    'NDSU_Yellavajjala': \"Engineering technology\", \n",
    "    'FECliu': \"Electrical, electronics and communications engineering\",  \n",
    "    'UCDenver_Gaffney': \"Mechanical engineering\", \n",
    "    'SWITCHHawaii': \"Electrical, electronics and communications engineering\",  \n",
    "    'Perchlorate': \"Engineering technology\", \n",
    "    'UNL_Stolle': \"Mechanical engineering\",\n",
    "    'TAMU_Rathinam': \"Mechanical engineering\",\n",
    "    'SourceCoding': \"Electrical, electronics and communications engineering\",  \n",
    "}\n",
    "\n",
    "# Apply the engineering mapping\n",
    "project_df[\"FieldOfScienceViaProjectMapping\"] = project_df[\"File\"].isin(PROJECT_MAPPING.keys())\n",
    "project_df[\"FinalFieldOfScience\"] = project_df[\"FinalFieldOfScience\"].fillna(project_df[\"File\"].map(PROJECT_MAPPING))\n",
    "\n",
    "# Matching Stats\n",
    "print(f\"Mapped an additional {project_df['FieldOfScienceViaProjectMapping'].sum()} Fields of Science that were mapped correctly in the original mapping file.\")\n",
    "print(f\"Final Field of Science is still missing for {len(project_df[project_df['FinalFieldOfScience'].isna() & ~(project_df['File'].isin(PROJECT_MAPPING))])}/{len(project_df['FinalFieldOfScience'])} projects.\")"
   ],
   "metadata": {
    "collapsed": false,
    "ExecuteTime": {
     "end_time": "2023-11-29T15:10:45.289508Z",
     "start_time": "2023-11-29T15:10:45.282958Z"
    }
   },
   "id": "9b906a78dfbcc597"
  },
  {
   "cell_type": "markdown",
   "source": [
    "### Do final check"
   ],
   "metadata": {
    "collapsed": false
   },
   "id": "8f3e12822ada109"
  },
  {
   "cell_type": "code",
   "execution_count": 156,
   "outputs": [
    {
     "name": "stdout",
     "output_type": "stream",
     "text": [
      "Passed: All Projects have been assigned a valid FOS\n"
     ]
    }
   ],
   "source": [
    "ALL_VALID_FIELDS_OF_SCIENCE = [*VALID_FIELDS_FROM_PDF, None, \"Multidisciplinary/ interdisciplinary sciences\"]\n",
    "\n",
    "if len(project_df[~project_df[\"FinalFieldOfScience\"].isin(ALL_VALID_FIELDS_OF_SCIENCE)]) == 1:\n",
    "    print(\"Passed: All Projects have been assigned a valid FOS\")\n",
    "else: \n",
    "    print(\"Failed\")"
   ],
   "metadata": {
    "collapsed": false,
    "ExecuteTime": {
     "end_time": "2023-11-29T15:10:45.355202Z",
     "start_time": "2023-11-29T15:10:45.285990Z"
    }
   },
   "id": "cc5be7d723d28fb5"
  },
  {
   "cell_type": "code",
   "execution_count": 157,
   "outputs": [
    {
     "data": {
      "text/plain": "              File    ID  Name PIName Department FieldOfScience  \\\n834  _CAMPUS_GRIDS  None  None   None       None           None   \n\n    FinalFieldOfScience  FieldOfScienceIsCorrectCasingIndependent  \\\n834                 NaN                                     False   \n\n     FieldOfScienceViaMappingFile  FieldOfScienceViaHandMapping  \\\n834                         False                         False   \n\n     FieldOfScienceViaMultiScienceCommunity  FieldOfScienceViaProjectMapping  \n834                                   False                            False  ",
      "text/html": "<div>\n<style scoped>\n    .dataframe tbody tr th:only-of-type {\n        vertical-align: middle;\n    }\n\n    .dataframe tbody tr th {\n        vertical-align: top;\n    }\n\n    .dataframe thead th {\n        text-align: right;\n    }\n</style>\n<table border=\"1\" class=\"dataframe\">\n  <thead>\n    <tr style=\"text-align: right;\">\n      <th></th>\n      <th>File</th>\n      <th>ID</th>\n      <th>Name</th>\n      <th>PIName</th>\n      <th>Department</th>\n      <th>FieldOfScience</th>\n      <th>FinalFieldOfScience</th>\n      <th>FieldOfScienceIsCorrectCasingIndependent</th>\n      <th>FieldOfScienceViaMappingFile</th>\n      <th>FieldOfScienceViaHandMapping</th>\n      <th>FieldOfScienceViaMultiScienceCommunity</th>\n      <th>FieldOfScienceViaProjectMapping</th>\n    </tr>\n  </thead>\n  <tbody>\n    <tr>\n      <th>834</th>\n      <td>_CAMPUS_GRIDS</td>\n      <td>None</td>\n      <td>None</td>\n      <td>None</td>\n      <td>None</td>\n      <td>None</td>\n      <td>NaN</td>\n      <td>False</td>\n      <td>False</td>\n      <td>False</td>\n      <td>False</td>\n      <td>False</td>\n    </tr>\n  </tbody>\n</table>\n</div>"
     },
     "execution_count": 157,
     "metadata": {},
     "output_type": "execute_result"
    }
   ],
   "source": [
    "project_df[~project_df[\"FinalFieldOfScience\"].isin(ALL_VALID_FIELDS_OF_SCIENCE)]"
   ],
   "metadata": {
    "collapsed": false,
    "ExecuteTime": {
     "end_time": "2023-11-29T15:10:45.374958Z",
     "start_time": "2023-11-29T15:10:45.291134Z"
    }
   },
   "id": "fe24910aaac8205b"
  },
  {
   "cell_type": "code",
   "execution_count": 158,
   "outputs": [
    {
     "data": {
      "text/plain": "                    File    ID  Name               PIName  \\\n0             FIU_DCunha  None  None      Cassian D’Cunha   \n1         MSU_Kerzendorf  None  None  Wolfgang Kerzendorf   \n2            cms.org.ksu   212  None        Yurii Maravin   \n3          DTWclassifier   423  None   Luke Remage-Healey   \n4                  SOLID   649  None       Thomas Britton   \n...                  ...   ...   ...                  ...   \n1088                mars   500  None             Joe Boyd   \n1089         cms.org.uic   232  None        Nikos Varelas   \n1090            EpiBrain   452  None          David Mogul   \n1091        Auburn_Hauck  None  None       Ruediger Hauck   \n1092  Mizzou_OSGTeaching   645  None   Timothy Middelkoop   \n\n                                             Department  \\\n0                  Department of Information Technology   \n1                   Department of Physics and Astronomy   \n2                                               Physics   \n3                      Psychological and Brain Sciences   \n4                                               Physics   \n...                                                 ...   \n1088                                                N/A   \n1089                                            Physics   \n1090                             Biomedical Engineering   \n1091                                       Pathobiology   \n1092  Research Computing Support Services, Division ...   \n\n                                         FieldOfScience  \\\n0     NSF RAPTOR Project / Computer and Information ...   \n1                                             Astronomy   \n2                                   High Energy Physics   \n3                                          Neuroscience   \n4                                       Nuclear Physics   \n...                                                 ...   \n1088                                High Energy Physics   \n1089                                High Energy Physics   \n1090                                       Neuroscience   \n1091  Agricultural Sciences specifically Poultry Sci...   \n1092                                          Education   \n\n        FinalFieldOfScience  FieldOfScienceIsCorrectCasingIndependent  \\\n0         Computer sciences                                     False   \n1                 Astronomy                                     False   \n2                   Physics                                     False   \n3       Biological sciences                                     False   \n4                   Physics                                     False   \n...                     ...                                       ...   \n1088                Physics                                     False   \n1089                Physics                                     False   \n1090    Biological sciences                                     False   \n1091  Agricultural sciences                                     False   \n1092              Education                                     False   \n\n      FieldOfScienceViaMappingFile  FieldOfScienceViaHandMapping  \\\n0                            False                          True   \n1                             True                         False   \n2                             True                         False   \n3                             True                         False   \n4                             True                         False   \n...                            ...                           ...   \n1088                          True                         False   \n1089                          True                         False   \n1090                          True                         False   \n1091                         False                          True   \n1092                          True                         False   \n\n      FieldOfScienceViaMultiScienceCommunity  FieldOfScienceViaProjectMapping  \n0                                      False                            False  \n1                                      False                            False  \n2                                      False                            False  \n3                                      False                            False  \n4                                      False                            False  \n...                                      ...                              ...  \n1088                                   False                            False  \n1089                                   False                            False  \n1090                                   False                            False  \n1091                                   False                            False  \n1092                                   False                            False  \n\n[1093 rows x 12 columns]",
      "text/html": "<div>\n<style scoped>\n    .dataframe tbody tr th:only-of-type {\n        vertical-align: middle;\n    }\n\n    .dataframe tbody tr th {\n        vertical-align: top;\n    }\n\n    .dataframe thead th {\n        text-align: right;\n    }\n</style>\n<table border=\"1\" class=\"dataframe\">\n  <thead>\n    <tr style=\"text-align: right;\">\n      <th></th>\n      <th>File</th>\n      <th>ID</th>\n      <th>Name</th>\n      <th>PIName</th>\n      <th>Department</th>\n      <th>FieldOfScience</th>\n      <th>FinalFieldOfScience</th>\n      <th>FieldOfScienceIsCorrectCasingIndependent</th>\n      <th>FieldOfScienceViaMappingFile</th>\n      <th>FieldOfScienceViaHandMapping</th>\n      <th>FieldOfScienceViaMultiScienceCommunity</th>\n      <th>FieldOfScienceViaProjectMapping</th>\n    </tr>\n  </thead>\n  <tbody>\n    <tr>\n      <th>0</th>\n      <td>FIU_DCunha</td>\n      <td>None</td>\n      <td>None</td>\n      <td>Cassian D’Cunha</td>\n      <td>Department of Information Technology</td>\n      <td>NSF RAPTOR Project / Computer and Information ...</td>\n      <td>Computer sciences</td>\n      <td>False</td>\n      <td>False</td>\n      <td>True</td>\n      <td>False</td>\n      <td>False</td>\n    </tr>\n    <tr>\n      <th>1</th>\n      <td>MSU_Kerzendorf</td>\n      <td>None</td>\n      <td>None</td>\n      <td>Wolfgang Kerzendorf</td>\n      <td>Department of Physics and Astronomy</td>\n      <td>Astronomy</td>\n      <td>Astronomy</td>\n      <td>False</td>\n      <td>True</td>\n      <td>False</td>\n      <td>False</td>\n      <td>False</td>\n    </tr>\n    <tr>\n      <th>2</th>\n      <td>cms.org.ksu</td>\n      <td>212</td>\n      <td>None</td>\n      <td>Yurii Maravin</td>\n      <td>Physics</td>\n      <td>High Energy Physics</td>\n      <td>Physics</td>\n      <td>False</td>\n      <td>True</td>\n      <td>False</td>\n      <td>False</td>\n      <td>False</td>\n    </tr>\n    <tr>\n      <th>3</th>\n      <td>DTWclassifier</td>\n      <td>423</td>\n      <td>None</td>\n      <td>Luke Remage-Healey</td>\n      <td>Psychological and Brain Sciences</td>\n      <td>Neuroscience</td>\n      <td>Biological sciences</td>\n      <td>False</td>\n      <td>True</td>\n      <td>False</td>\n      <td>False</td>\n      <td>False</td>\n    </tr>\n    <tr>\n      <th>4</th>\n      <td>SOLID</td>\n      <td>649</td>\n      <td>None</td>\n      <td>Thomas Britton</td>\n      <td>Physics</td>\n      <td>Nuclear Physics</td>\n      <td>Physics</td>\n      <td>False</td>\n      <td>True</td>\n      <td>False</td>\n      <td>False</td>\n      <td>False</td>\n    </tr>\n    <tr>\n      <th>...</th>\n      <td>...</td>\n      <td>...</td>\n      <td>...</td>\n      <td>...</td>\n      <td>...</td>\n      <td>...</td>\n      <td>...</td>\n      <td>...</td>\n      <td>...</td>\n      <td>...</td>\n      <td>...</td>\n      <td>...</td>\n    </tr>\n    <tr>\n      <th>1088</th>\n      <td>mars</td>\n      <td>500</td>\n      <td>None</td>\n      <td>Joe Boyd</td>\n      <td>N/A</td>\n      <td>High Energy Physics</td>\n      <td>Physics</td>\n      <td>False</td>\n      <td>True</td>\n      <td>False</td>\n      <td>False</td>\n      <td>False</td>\n    </tr>\n    <tr>\n      <th>1089</th>\n      <td>cms.org.uic</td>\n      <td>232</td>\n      <td>None</td>\n      <td>Nikos Varelas</td>\n      <td>Physics</td>\n      <td>High Energy Physics</td>\n      <td>Physics</td>\n      <td>False</td>\n      <td>True</td>\n      <td>False</td>\n      <td>False</td>\n      <td>False</td>\n    </tr>\n    <tr>\n      <th>1090</th>\n      <td>EpiBrain</td>\n      <td>452</td>\n      <td>None</td>\n      <td>David Mogul</td>\n      <td>Biomedical Engineering</td>\n      <td>Neuroscience</td>\n      <td>Biological sciences</td>\n      <td>False</td>\n      <td>True</td>\n      <td>False</td>\n      <td>False</td>\n      <td>False</td>\n    </tr>\n    <tr>\n      <th>1091</th>\n      <td>Auburn_Hauck</td>\n      <td>None</td>\n      <td>None</td>\n      <td>Ruediger Hauck</td>\n      <td>Pathobiology</td>\n      <td>Agricultural Sciences specifically Poultry Sci...</td>\n      <td>Agricultural sciences</td>\n      <td>False</td>\n      <td>False</td>\n      <td>True</td>\n      <td>False</td>\n      <td>False</td>\n    </tr>\n    <tr>\n      <th>1092</th>\n      <td>Mizzou_OSGTeaching</td>\n      <td>645</td>\n      <td>None</td>\n      <td>Timothy Middelkoop</td>\n      <td>Research Computing Support Services, Division ...</td>\n      <td>Education</td>\n      <td>Education</td>\n      <td>False</td>\n      <td>True</td>\n      <td>False</td>\n      <td>False</td>\n      <td>False</td>\n    </tr>\n  </tbody>\n</table>\n<p>1093 rows × 12 columns</p>\n</div>"
     },
     "execution_count": 158,
     "metadata": {},
     "output_type": "execute_result"
    }
   ],
   "source": [
    "project_df"
   ],
   "metadata": {
    "collapsed": false,
    "ExecuteTime": {
     "end_time": "2023-11-29T15:10:45.375706Z",
     "start_time": "2023-11-29T15:10:45.308550Z"
    }
   },
   "id": "d7bf0de38d192f87"
  },
  {
   "cell_type": "code",
   "execution_count": 159,
   "outputs": [],
   "source": [
    "# Export\n",
    "project_df[project_df[\"FinalFieldOfScience\"].isin(ALL_VALID_FIELDS_OF_SCIENCE)].to_excel(\"ProjectMapping.xlsx\", index=False)"
   ],
   "metadata": {
    "collapsed": false,
    "ExecuteTime": {
     "end_time": "2023-11-29T15:10:45.537812Z",
     "start_time": "2023-11-29T15:10:45.313517Z"
    }
   },
   "id": "2b8d51ebb6b34a10"
  },
  {
   "cell_type": "code",
   "execution_count": 160,
   "outputs": [],
   "source": [
    "import re\n",
    "\n",
    "# Apply the new mapping \n",
    "\n",
    "for project_path in project_paths:\n",
    "    \n",
    "    # Get the project file name, filter out non yaml files and non project files\n",
    "    project_file = file_path_to_file_name(project_path)\n",
    "    if not project_file.endswith(\".yaml\") or project_file == \"_CAMPUS_GRIDS.yaml\":\n",
    "        continue\n",
    "\n",
    "    project_file_name = strip_extension(project_file)\n",
    "        \n",
    "    # Grab a dict of this projects row in the project df\n",
    "    project_row = project_df[project_df['File'] == project_file_name].to_dict(orient='records')[0]\n",
    "    \n",
    "    # Grab the data pre change\n",
    "    project_data = yaml.load(open(project_path, \"r\"), Loader=yaml.FullLoader)\n",
    "    \n",
    "    # Replace the FieldOfScience\n",
    "    text = open(project_path, \"r\").read()\n",
    "    pattern = r'FieldOfScience:.*'\n",
    "    replaced_text = None\n",
    "    if project_row[\"FinalFieldOfScience\"] is not None:\n",
    "        replaced_text = re.sub(pattern, f\"FieldOfScience: {project_row['FinalFieldOfScience']}\", text)\n",
    "    else:\n",
    "        replaced_text = re.sub(pattern, f\"\", text)\n",
    "    open(project_path, \"w\").write(replaced_text)\n",
    "    \n",
    "    updated_project_data = yaml.load(open(project_path, \"r\"), Loader=yaml.FullLoader)\n",
    "    \n",
    "    # Check that the Field of Science has been appropriately updated\n",
    "    if updated_project_data.get('FieldOfScience', None) != project_row['FinalFieldOfScience']:\n",
    "        raise Exception(\"Field of Science not updated correctly\")\n",
    "    \n",
    "    # Check that the content other than the Field of Science is the same\n",
    "    updated_project_data.pop(\"FieldOfScience\", None)\n",
    "    project_data.pop(\"FieldOfScience\", None)\n",
    "    if updated_project_data != project_data:\n",
    "        raise Exception(\"Other contents have been changed as a result of the FieldOfScience update\")\n",
    "        \n"
   ],
   "metadata": {
    "collapsed": false,
    "ExecuteTime": {
     "end_time": "2023-11-29T15:10:47.909330Z",
     "start_time": "2023-11-29T15:10:45.542518Z"
    }
   },
   "id": "61fc5d97dcc40f61"
  },
  {
   "cell_type": "code",
   "execution_count": 161,
   "outputs": [],
   "source": [
    "# One final check\n",
    "for project_path in project_paths:\n",
    "    \n",
    "    project_file = file_path_to_file_name(project_path)\n",
    "    if not project_path.endswith(\".yaml\") or project_file == \"_CAMPUS_GRIDS.yaml\":\n",
    "        continue\n",
    "    \n",
    "    project_data = yaml.load(open(project_path, \"r\"), Loader=yaml.FullLoader)\n",
    "    if project_data.get(\"FieldOfScience\", None) not in ALL_VALID_FIELDS_OF_SCIENCE:\n",
    "        raise Exception(\"Invalid Field of Science in projects yaml\")"
   ],
   "metadata": {
    "collapsed": false,
    "ExecuteTime": {
     "end_time": "2023-11-29T15:10:48.496869Z",
     "start_time": "2023-11-29T15:10:47.911569Z"
    }
   },
   "id": "ea0894e857f520bb"
  },
  {
   "cell_type": "code",
   "execution_count": 162,
   "outputs": [
    {
     "data": {
      "text/plain": "['Agricultural sciences',\n 'Biological sciences',\n 'Atmospheric sciences',\n 'Earth and ocean sciences',\n 'Computer sciences',\n 'Mathematics',\n 'Astronomy',\n 'Chemistry',\n 'Physics',\n 'Other physical sciences',\n 'Psychology',\n 'Economics',\n 'Political science',\n 'Sociology',\n 'Other social sciences',\n 'Aeronautical/Astronautical engineering',\n 'Chemical engineering',\n 'Civil engineering',\n 'Electrical, electronics and communications engineering',\n 'Industrial and manufacturing engineering',\n 'Materials science engineering',\n 'Mechanical engineering',\n 'Other engineering',\n 'Engineering technology',\n 'Health',\n 'Education',\n 'Humanities',\n 'Business management/administration',\n 'Communication',\n 'Other non-science and engineering/unknown',\n 'Multidisciplinary/ interdisciplinary sciences',\n None,\n 'Multidisciplinary/ interdisciplinary sciences']"
     },
     "execution_count": 162,
     "metadata": {},
     "output_type": "execute_result"
    }
   ],
   "source": [
    "ALL_VALID_FIELDS_OF_SCIENCE"
   ],
   "metadata": {
    "collapsed": false,
    "ExecuteTime": {
     "end_time": "2023-11-29T15:10:48.503655Z",
     "start_time": "2023-11-29T15:10:48.497484Z"
    }
   },
   "id": "fb97f1b5f03fac5c"
  },
  {
   "cell_type": "code",
   "execution_count": 163,
   "outputs": [
    {
     "name": "stderr",
     "output_type": "stream",
     "text": [
      "/Users/clock/PycharmProjects/general/venv/lib/python3.11/site-packages/openpyxl/styles/stylesheet.py:226: UserWarning: Workbook contains no default style, apply openpyxl's default\n",
      "  warn(\"Workbook contains no default style, apply openpyxl's default\")\n"
     ]
    },
    {
     "data": {
      "text/plain": "array(['Agricultural, animal, plant, and veterinary sciences',\n       'Natural resources and conservation',\n       'Biochemistry, biophysics, and molecular biology',\n       'Bioinformatics, biostatistics, and computational biology',\n       'Cell/ cellular biology and anatomy',\n       'Ecology, evolutionary biology, and epidemiology',\n       'Genetics and genomics', 'Microbiology and immunology',\n       'Neurobiology and neurosciences', 'Pharmacology and toxicology',\n       'Physiology, oncology, and cancer biology',\n       'Biological and biomedical sciences, other', 'Computer science',\n       'Computer and information sciences, other',\n       'Biological, biomedical, and biosystems engineering',\n       'Chemical and petroleum engineering',\n       'Civil, environmental, and transportation engineering',\n       'Electrical and computer engineering', 'Engineering technologies',\n       'Industrial engineering and operations research',\n       'Materials and mining engineering', 'Mechanical engineering',\n       'Engineering, other', 'Geological and earth sciences',\n       'Ocean, marine, and atmospheric sciences',\n       'Nursing and nursing science',\n       'Pharmacy and pharmaceutical sciences', 'Public health',\n       'Health sciences, other', 'Applied mathematics', 'Mathematics',\n       'Statistics', 'Interdisciplinary computer sciences',\n       'Multidisciplinary/ interdisciplinary sciences, other',\n       'Astronomy and astrophysics', 'Chemistry', 'Materials sciences',\n       'Physics', 'Clinical psychology',\n       'Counseling and applied psychology',\n       'Research and experimental psychology', 'Psychology, other',\n       'Anthropology',\n       'Area, ethnic, cultural, gender, and group studies', 'Economics',\n       'Political science and government', 'Public policy analysis',\n       'Sociology, demography, and population studies',\n       'Social sciences, other', 'Business administration and management',\n       'Business, other', 'Education leadership and administration',\n       'Education research', 'Teacher education', 'Education, other',\n       'English language and literature, letters',\n       'Foreign languages, literatures, and linguistics', 'History',\n       'Philosophy and religious studies', 'Humanities, other',\n       'Music and performing arts',\n       'Visual arts, media studies, and design',\n       'Communications and journalism',\n       'Multidisciplinary/ interdisciplinary studies',\n       'Public administration and social services',\n       'Non-science and engineering, other'], dtype=object)"
     },
     "execution_count": 163,
     "metadata": {},
     "output_type": "execute_result"
    }
   ],
   "source": [
    "df = pd.read_excel(\"nsf24300-taba-005.xlsx\", skiprows=3)\n",
    "df['New major field'].unique()"
   ],
   "metadata": {
    "collapsed": false,
    "ExecuteTime": {
     "end_time": "2023-11-29T15:10:49.282715Z",
     "start_time": "2023-11-29T15:10:48.501513Z"
    }
   },
   "id": "b14cf21be1de97f9"
  },
  {
   "cell_type": "code",
   "execution_count": 163,
   "outputs": [],
   "source": [],
   "metadata": {
    "collapsed": false,
    "ExecuteTime": {
     "end_time": "2023-11-29T15:10:49.287706Z",
     "start_time": "2023-11-29T15:10:49.282387Z"
    }
   },
   "id": "a7db03625180f37d"
  }
 ],
 "metadata": {
  "kernelspec": {
   "display_name": "Python 3",
   "language": "python",
   "name": "python3"
  },
  "language_info": {
   "codemirror_mode": {
    "name": "ipython",
    "version": 2
   },
   "file_extension": ".py",
   "mimetype": "text/x-python",
   "name": "python",
   "nbconvert_exporter": "python",
   "pygments_lexer": "ipython2",
   "version": "2.7.6"
  }
 },
 "nbformat": 4,
 "nbformat_minor": 5
}
