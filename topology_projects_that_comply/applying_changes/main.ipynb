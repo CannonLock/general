{
 "cells": [
  {
   "cell_type": "code",
   "execution_count": 200,
   "id": "initial_id",
   "metadata": {
    "collapsed": true,
    "ExecuteTime": {
     "end_time": "2023-11-23T00:39:00.113229Z",
     "start_time": "2023-11-23T00:38:59.963358Z"
    }
   },
   "outputs": [],
   "source": [
    "import glob\n",
    "\n",
    "import yaml\n",
    "import pandas as pd\n",
    "import numpy as np"
   ]
  },
  {
   "cell_type": "markdown",
   "source": [
    "# Field of Science Report\n",
    "\n",
    "The intent of this report is to show the current state of Topology projects Fields of Science and provide a path forward. \n",
    "\n",
    "## Current State\n",
    "\n",
    "All Fields of Science are taken directly from the topology project YAML files. There is a mapping file but that is not applied in any way that would impact GRACC accounting. \n",
    "\n",
    "There exists a mapping file on Topology to map the NSF fields from these records to a NSF defined Field of Science. These NSF Fields of Science originate in this [pdf](../nsf_fos.pdf). The mapping file is not strict in its adherence to this PDF and has some additional fields and casing differences. \n",
    "\n",
    "## Next Steps\n",
    "\n",
    "Below are the steps to correct the Fields of Science for all projects in their project yaml files to those specified in the original NSF PDF as well as the newest version of the [NSF Field of Study](https://ncses.nsf.gov/pubs/nsf24300/assets/technical-notes/tables/nsf24300-taba-005.xlsx).\n"
   ],
   "metadata": {
    "collapsed": false
   },
   "id": "a7c1effdcca413a8"
  },
  {
   "cell_type": "code",
   "execution_count": 201,
   "outputs": [],
   "source": [
    "PROJECT_PATH = \"/Users/clock/PycharmProjects/topology/projects\"\n",
    "NSF_MAPPING_PATH = \"/Users/clock/PycharmProjects/topology/mappings/nsfscience.yaml\"\n",
    "\n",
    "VALID_FIELDS_FROM_PDF = [\n",
    "    \"Agricultural sciences\",\n",
    "    \"Biological sciences\",\n",
    "    \"Atmospheric sciences\",\n",
    "    \"Earth and ocean sciences\",\n",
    "    \"Computer sciences\",\n",
    "    \"Mathematics\",\n",
    "    \"Astronomy\",\n",
    "    \"Chemistry\",\n",
    "    \"Physics\",\n",
    "    \"Other physical sciences\",\n",
    "    \"Psychology\",\n",
    "    \"Economics\",\n",
    "    \"Political science\",\n",
    "    \"Sociology\",\n",
    "    \"Other social sciences\",\n",
    "    \"Aeronautical/Astronautical engineering\",\n",
    "    \"Chemical engineering\",\n",
    "    \"Civil engineering\",\n",
    "    \"Electrical, electronics and communications engineering\",\n",
    "    \"Industrial and manufacturing engineering\",\n",
    "    \"Materials science engineering\",\n",
    "    \"Mechanical engineering\",\n",
    "    \"Other engineering\",\n",
    "    \"Engineering technology\",\n",
    "    \"Health\",\n",
    "    \"Education\",\n",
    "    \"Humanities\",\n",
    "    \"Business management/administration\",\n",
    "    \"Communication\",\n",
    "    \"Other non-science and engineering/unknown\"\n",
    "]"
   ],
   "metadata": {
    "collapsed": false,
    "ExecuteTime": {
     "end_time": "2023-11-23T00:39:00.139642Z",
     "start_time": "2023-11-23T00:38:59.969272Z"
    }
   },
   "id": "c294b0703e026081"
  },
  {
   "cell_type": "code",
   "execution_count": 202,
   "outputs": [
    {
     "name": "stdout",
     "output_type": "stream",
     "text": [
      "Error in NCSU_2023_Hall: mapping values are not allowed here\n",
      "  in \"/Users/clock/PycharmProjects/topology/projects/NCSU_2023_Hall\", line 1, column 282\n"
     ]
    }
   ],
   "source": [
    "project_paths = glob.glob(f\"{PROJECT_PATH}/*\")\n",
    "\n",
    "# Build the project DataFrame\n",
    "PROJECT_VALUE_KEYS = [\"ID\", \"Name\", \"PIName\", \"Department\", \"FieldOfScience\"]\n",
    "project_list = [[\"File\", *PROJECT_VALUE_KEYS]]\n",
    "for project_path in project_paths:\n",
    "    \n",
    "    project_file_name = project_path.split(\"/\")[-1].split(\".\")[0]\n",
    "    \n",
    "    try:\n",
    "        project = yaml.load(open(project_path, \"r\"), Loader=yaml.FullLoader)\n",
    "        project_list.append([project_file_name, *map(lambda x: project.get(x, None), PROJECT_VALUE_KEYS)])\n",
    "\n",
    "    except Exception as e:\n",
    "        print(f\"Error in {project_file_name}: {e}\")\n",
    "\n",
    "project_df = pd.DataFrame(project_list[1:], columns=project_list[0])\n"
   ],
   "metadata": {
    "collapsed": false,
    "ExecuteTime": {
     "end_time": "2023-11-23T00:39:01.077919Z",
     "start_time": "2023-11-23T00:38:59.984534Z"
    }
   },
   "id": "e88c42a4ab42048"
  },
  {
   "cell_type": "code",
   "execution_count": 203,
   "outputs": [
    {
     "name": "stdout",
     "output_type": "stream",
     "text": [
      "Final Field of Science is still missing for 893/1093 projects.\n"
     ]
    }
   ],
   "source": [
    "# Start the final Field of Science column\n",
    "project_df[\"FinalFieldOfScience\"] = project_df[\"FieldOfScience\"].apply(lambda x: x if x in VALID_FIELDS_FROM_PDF else np.nan)\n",
    "\n",
    "print(f\"Final Field of Science is still missing for {project_df['FinalFieldOfScience'].isna().sum()}/{len(project_df['FinalFieldOfScience'])} projects.\")"
   ],
   "metadata": {
    "collapsed": false,
    "ExecuteTime": {
     "end_time": "2023-11-23T00:39:01.079148Z",
     "start_time": "2023-11-23T00:39:01.048964Z"
    }
   },
   "id": "2b393abc9d7885f9"
  },
  {
   "cell_type": "code",
   "execution_count": 204,
   "outputs": [
    {
     "name": "stdout",
     "output_type": "stream",
     "text": [
      "Mapped an additional 107 Fields of Science with incorrect casing.\n",
      "Final Field of Science is still missing for 786/1093 projects.\n"
     ]
    }
   ],
   "source": [
    "# Add the columns whose casing does not match\n",
    "VALID_FIELDS_FROM_PDF_LOWER_MAP = {v.lower(): v for v in VALID_FIELDS_FROM_PDF}\n",
    "project_df[\"FieldOfScienceIsCorrectCasingIndependent\"] = project_df[\"FieldOfScience\"].str.lower().isin(VALID_FIELDS_FROM_PDF_LOWER_MAP) & project_df[\"FinalFieldOfScience\"].isna()\n",
    "project_df[\"FinalFieldOfScience\"] = project_df[\"FinalFieldOfScience\"].fillna(project_df[\"FieldOfScience\"].apply(lambda x: VALID_FIELDS_FROM_PDF_LOWER_MAP[x.lower()] if isinstance(x, str) and x.lower() in VALID_FIELDS_FROM_PDF_LOWER_MAP else np.nan))\n",
    "\n",
    "# Matching Stats\n",
    "print(f\"Mapped an additional {project_df['FieldOfScienceIsCorrectCasingIndependent'].sum()} Fields of Science with incorrect casing.\")\n",
    "print(f\"Final Field of Science is still missing for {project_df['FinalFieldOfScience'].isna().sum()}/{len(project_df['FinalFieldOfScience'])} projects.\")\n"
   ],
   "metadata": {
    "collapsed": false,
    "ExecuteTime": {
     "end_time": "2023-11-23T00:39:01.079358Z",
     "start_time": "2023-11-23T00:39:01.059426Z"
    }
   },
   "id": "f71fad44891668fc"
  },
  {
   "cell_type": "code",
   "execution_count": 205,
   "outputs": [
    {
     "name": "stdout",
     "output_type": "stream",
     "text": [
      "Mapped an additional 853 Fields of Science that were mapped correctly in the original mapping file.\n",
      "Final Field of Science is still missing for 182/1093 projects.\n"
     ]
    }
   ],
   "source": [
    "# Add the rows who can be mapped\n",
    "NSF_MAPPING = yaml.load(open(NSF_MAPPING_PATH, \"r\"), Loader=yaml.FullLoader)\n",
    "\n",
    "project_df[\"FieldOfScienceViaMappingFile\"] = project_df[\"FieldOfScience\"].map(NSF_MAPPING).str.lower().map(VALID_FIELDS_FROM_PDF_LOWER_MAP).isin(VALID_FIELDS_FROM_PDF)\n",
    "project_df[\"FinalFieldOfScience\"] = project_df[\"FinalFieldOfScience\"].fillna(project_df[\"FieldOfScience\"].map(NSF_MAPPING).str.lower().map(VALID_FIELDS_FROM_PDF_LOWER_MAP))\n",
    "\n",
    "# Matching Stats\n",
    "print(f\"Mapped an additional {project_df['FieldOfScienceViaMappingFile'].sum()} Fields of Science that were mapped correctly in the original mapping file.\")\n",
    "print(f\"Final Field of Science is still missing for {project_df['FinalFieldOfScience'].isna().sum()}/{len(project_df['FinalFieldOfScience'])} projects.\")\n"
   ],
   "metadata": {
    "collapsed": false,
    "ExecuteTime": {
     "end_time": "2023-11-23T00:39:01.079532Z",
     "start_time": "2023-11-23T00:39:01.059875Z"
    }
   },
   "id": "6c4ffc356b7451b1"
  },
  {
   "cell_type": "code",
   "execution_count": 206,
   "outputs": [
    {
     "name": "stdout",
     "output_type": "stream",
     "text": [
      "Remaining Fields of Science that are not valid: 64\n"
     ]
    }
   ],
   "source": [
    "print(f\"Remaining Fields of Science that are not valid: {len(project_df[project_df['FinalFieldOfScience'].isna()]['FieldOfScience'].unique())}\")"
   ],
   "metadata": {
    "collapsed": false,
    "ExecuteTime": {
     "end_time": "2023-11-23T00:39:01.079754Z",
     "start_time": "2023-11-23T00:39:01.071739Z"
    }
   },
   "id": "b673a1a58bfeef53"
  },
  {
   "cell_type": "code",
   "execution_count": 207,
   "outputs": [],
   "source": [
    "HAND_MAPPING = {\n",
    "    'NSF RAPTOR Project / Computer and Information Systems': \"Computer sciences\", \n",
    "    'Training': None, \n",
    "    'Cell Biology': \"Biological sciences\", \n",
    "    'Materials Science': \"Materials science engineering\", \n",
    "    'Computer and Information Sciences': \"Computer sciences\", \n",
    "    'Visual Arts': \"Humanities\", \n",
    "    'Electrical, Electronic, and Communications': \"Electrical, electronics and communications engineering\", \n",
    "    'Research Computing': \"Computer sciences\", \n",
    "    'Natural Resources and Conservation': \"Agricultural sciences\", \n",
    "    'Life Sciences - Biological and Biomedical': \"Biological sciences\", \n",
    "    'Other': None, \n",
    "    'Multi-Science Community': None, \n",
    "    'Data Science': \"Computer sciences\", \n",
    "    'Engineering': None, \n",
    "    'Elementary Particle Physics': \"Physics\", \n",
    "    'Appleid Mathematics': \"Mathematics\", \n",
    "    'Astronomy & Astrophysics': \"Astronomy\", \n",
    "    'Computer and Computation Research': \"Computer sciences\", \n",
    "    'Health Sciences': \"Health\", \n",
    "    'Multidisciplinary': None, \n",
    "    'Business': \"Business management/administration\", \n",
    "    'Engineering Systems': \"Electrical, electronics and communications engineering\", \n",
    "    'Atmospheric Science and Meteorology': \"Atmospheric sciences\", \n",
    "    'Social, Behavioral & Economic Sciences': \"Psychology\", # Looked up their project and they are in the Psychology Department\n",
    "    'Computer and Information Science': \"Computer sciences\", \n",
    "    'Robotics': \"Engineering technology\", \n",
    "    'Integrative Activities': None, \n",
    "    'Applied Computer Science': \"Computer sciences\", \n",
    "    'Computer and information services': \"Computer sciences\", \n",
    "    'Physics, Particle Physics, High Energy Physics': \"Physics\", \n",
    "    'Genetics': \"Biological sciences\", \n",
    "    'Neuroscience, biomechanics, microscopy': \"Biological sciences\", \n",
    "    'Biomedical Engineering': \"Other engineering\", \n",
    "    'Earth Science': \"Earth and ocean sciences\", \n",
    "    'Electrical, Electronic, and Communications Engineering': \"Electrical, electronics and communications engineering\", \n",
    "    'Aerospace, Aeronautical, and Astronautical Engineering': \"Aeronautical/Astronautical engineering\", \n",
    "    'Science and Engineering Education': \"Education\", \n",
    "    'Radiological Science': \"Health\", \n",
    "    'Biological and Biomedical Sciences/Biophysics': \"Biological sciences\",\n",
    "    'Mathmatics and Statistics': \"Mathematics\",\n",
    "    'Physics and radiation therapy': \"Health\",\n",
    "    'Social Sciences': \"Political science\", # Googled the PI: https://polisci.northwestern.edu/people/core-faculty/brian-libgober.html\n",
    "    'Materials Engineering': \"Materials science engineering\",\n",
    "    'Geosciences': \"Earth and ocean sciences\", \n",
    "    'Bioengineering & Biomedical Engineering': \"Other engineering\", # Direct match, but more descriptive is \"Biological sciences\"\n",
    "    'Psychology and Life Sciences': \"Psychology\",\n",
    "    'Structural Biology/Biophysics': \"Biological sciences\",\n",
    "    'Computer Architecture/Computer Engineering': \"Computer sciences\", \n",
    "    'Mathematics and Statistics': \"Mathematics\",\n",
    "    'Condensed Matter and Materials Physics': \"Physics\", \n",
    "    'Life Sciences. Other Sciences': \"Biological sciences\", # Project is in the Biological Sciences department \n",
    "    'Atomic Physics': \"Physics\", \n",
    "    'Behavioral Science': \"Other social sciences\", \n",
    "    'Computer & Information Science & Engineering': \"Computer sciences\",\n",
    "    'Statistics and Probability': \"Mathematics\", \n",
    "    'Biology': \"Biological sciences\", \n",
    "    'Electrical Engineering': \"Electrical, electronics and communications engineering\", \n",
    "    None: None, \n",
    "    'Machine Learning/AI': \"Computer sciences\",\n",
    "    'Materials Research': \"Materials science engineering\", \n",
    "    'Ocean Sciences and Marine Sciences': \"Earth and ocean sciences\", \n",
    "    'Medical (NIH)': \"Health\", \n",
    "    'Other Engineering and Technologies': \"Other engineering\", \n",
    "    'Agricultural Sciences specifically Poultry Science': \"Agricultural sciences\"\n",
    "}"
   ],
   "metadata": {
    "collapsed": false,
    "ExecuteTime": {
     "end_time": "2023-11-23T00:39:01.094265Z",
     "start_time": "2023-11-23T00:39:01.081172Z"
    }
   },
   "id": "f351d35a53ed2df2"
  },
  {
   "cell_type": "code",
   "execution_count": 208,
   "outputs": [
    {
     "name": "stdout",
     "output_type": "stream",
     "text": [
      "Mapped an additional 109 Fields of Science that were mapped correctly in the original mapping file.\n",
      "Final Field of Science is still missing for 73/1093 projects.\n"
     ]
    }
   ],
   "source": [
    "# Apply the hand mapping\n",
    "project_df[\"FieldOfScienceViaHandMapping\"] = project_df[\"FieldOfScience\"].map(HAND_MAPPING).isin(VALID_FIELDS_FROM_PDF)\n",
    "project_df[\"FinalFieldOfScience\"] = project_df[\"FinalFieldOfScience\"].fillna(project_df[\"FieldOfScience\"].map(HAND_MAPPING))\n",
    "\n",
    "# Matching Stats\n",
    "print(f\"Mapped an additional {project_df['FieldOfScienceViaHandMapping'].sum()} Fields of Science that were mapped correctly in the original mapping file.\")\n",
    "print(f\"Final Field of Science is still missing for {project_df['FinalFieldOfScience'].isna().sum()}/{len(project_df['FinalFieldOfScience'])} projects.\")"
   ],
   "metadata": {
    "collapsed": false,
    "ExecuteTime": {
     "end_time": "2023-11-23T00:39:01.094766Z",
     "start_time": "2023-11-23T00:39:01.087532Z"
    }
   },
   "id": "931712ed60986ed4"
  },
  {
   "cell_type": "markdown",
   "source": [
    "### Remaining Issues\n",
    "\n",
    "Copied from below there are 7 remaining invalid fields of science to handle:\n",
    "```\n",
    "['Training' 'Other' 'Engineering' 'Multi-Science Community' 'Multidisciplinary' 'Integrative Activities' None]\n",
    "```\n",
    "\n",
    "To handle Multi-Science Community and Multidisciplinary we will map them to a field that comes from the most recent NSF Field of Study spreadsheet linked above \"Multidisciplinary/ interdisciplinary sciences\". "
   ],
   "metadata": {
    "collapsed": false
   },
   "id": "a646512977682401"
  },
  {
   "cell_type": "code",
   "execution_count": 209,
   "outputs": [
    {
     "name": "stdout",
     "output_type": "stream",
     "text": [
      "Mapped an additional 21 Fields of Science that were mapped correctly in the original mapping file.\n",
      "Final Field of Science is still missing for 52/1093 projects.\n"
     ]
    }
   ],
   "source": [
    "# Handle Multi-Science Community\n",
    "project_df[\"FieldOfScienceViaMultiScienceCommunity\"] = project_df[\"FieldOfScience\"].isin([\"Multi-Science Community\", \"Multidisciplinary\"])\n",
    "project_df[\"FinalFieldOfScience\"] = project_df[\"FinalFieldOfScience\"].fillna(project_df[\"FieldOfScience\"].map({\"Multi-Science Community\": \"Multidisciplinary/ interdisciplinary sciences\", \"Multidisciplinary\": \"Multidisciplinary/ interdisciplinary sciences\"}))\n",
    "\n",
    "# Matching Stats\n",
    "print(f\"Mapped an additional {project_df['FieldOfScienceViaMultiScienceCommunity'].sum()} Fields of Science that were mapped correctly in the original mapping file.\")\n",
    "print(f\"Final Field of Science is still missing for {project_df['FinalFieldOfScience'].isna().sum()}/{len(project_df['FinalFieldOfScience'])} projects.\")"
   ],
   "metadata": {
    "collapsed": false,
    "ExecuteTime": {
     "end_time": "2023-11-23T00:39:01.142311Z",
     "start_time": "2023-11-23T00:39:01.094693Z"
    }
   },
   "id": "c0731ebeaab1d099"
  },
  {
   "cell_type": "markdown",
   "source": [],
   "metadata": {
    "collapsed": false
   },
   "id": "db30a008bdb49fe6"
  },
  {
   "cell_type": "code",
   "execution_count": 210,
   "outputs": [
    {
     "name": "stdout",
     "output_type": "stream",
     "text": [
      "Mapped an additional 51 Fields of Science that were mapped correctly in the original mapping file.\n",
      "Final Field of Science is still missing for 1/1093 projects.\n"
     ]
    }
   ],
   "source": [
    "# Handle the remaining projects that have to be mapped by hand\n",
    "\n",
    "# Mapping from project file to the correct Field of Science\n",
    "PROJECT_MAPPING = {\n",
    "    'TG-TRA170047': None, # This is an RCF Staff account\n",
    "    'Training-ACE-NIAID': None, # This is an RCF Staff account\n",
    "    'TG-STA110011S': None, # Nothing in project about Field of Science\n",
    "    'TG-TRA150015': None, # This is an RCF Staff account\n",
    "    'TG-TRA180032': None, # This is an RCF Staff account\n",
    "    'TG-TRA120004': None, # This is an RCF Staff account\n",
    "    'KnowledgeLab': \"Computer sciences\",\n",
    "    'TG-TRA220011': None, # This is an RCF Staff account\n",
    "    'TG-TRA160027': None, # This is an RCF Staff account\n",
    "    'TG-TRA150018': None, # This is an RCF Staff account\n",
    "    'NCSU_Staff': None, # This is an RCF Staff account\n",
    "    'TG-TRA140029': None, # This is an RCF Staff account\n",
    "    'Syracuse_ITSRC': None, # This is an RCF Staff account\n",
    "    'TG-STA110014S': None, # This is an RCF Staff account\n",
    "    'TG-TRA220017': None, # This is an RCF Staff account\n",
    "    'TG-TRA130003': None, # This is an RCF Staff account\n",
    "    'TG-TRA090005': None, # This is an RCF Staff account\n",
    "    'PegasusTraining': None, # This is an RCF Staff account\n",
    "    'TG-TRA220014': None, # This is an RCF Staff account\n",
    "    'Rochester_Liu': None, # This is an RCF Staff account\n",
    "    'CampusWorkshop_Feb2021': None, # This is an RCF Staff account\n",
    "    'ConnectTrain': None, # This is an RCF Staff account\n",
    "    'UNI_Staff': None, # This is an RCF Staff account\n",
    "    'TG-TRA100004': None, # This is an RCF Staff account\n",
    "    'OSGUserTrainingPilot': None, # This is an RCF Staff account\n",
    "    'TG-CCR130001': None, # This is an RCF Staff account\n",
    "    'TG-TRA210040': None, # This is an RCF Staff account\n",
    "    'Workshop-RMACC21': None, # This is an RCF Staff account\n",
    "    'UCSD_ResearchIT': None, # This is an RCF Staff account\n",
    "    'UserSchool2016': None, # This is an RCF Staff account\n",
    "    'TG-TRA130007': None, # This is an RCF Staff account\n",
    "    'TG-TRA130011': None, # This is an RCF Staff account\n",
    "    'UChicago-RCC': None, # Unsure what this is but it shouldn't have a FOS\n",
    "    'TG-TRA140036': None, # This is an RCF Staff account\n",
    "    'UWMadison_Negrut': \"Engineering technology\", \n",
    "    'Stanford_Fletcher': \"Engineering technology\", \n",
    "    'GanForAuto': \"Electrical, electronics and communications engineering\", \n",
    "    'ND_Chen': \"Multidisciplinary/ interdisciplinary sciences\", # They do machine learning on health data \n",
    "    'UCSDEngEarthquake': \"Physics\", # Using the department of the project \n",
    "    'UWMadison_Li': \"Mechanical engineering\", \n",
    "    'Clemson_Sarupria': \"Chemical engineering\", \n",
    "    'Stanford_Zia': \"Chemical engineering\", \n",
    "    'UCSD_Shah': \"Other engineering\", \n",
    "    'NDSU_Yellavajjala': \"Engineering technology\", \n",
    "    'FECliu': \"Electrical, electronics and communications engineering\",  \n",
    "    'UCDenver_Gaffney': \"Mechanical engineering\", \n",
    "    'SWITCHHawaii': \"Electrical, electronics and communications engineering\",  \n",
    "    'Perchlorate': \"Engineering technology\", \n",
    "    'UNL_Stolle': \"Mechanical engineering\",\n",
    "    'TAMU_Rathinam': \"Mechanical engineering\",\n",
    "    'SourceCoding': \"Electrical, electronics and communications engineering\",  \n",
    "}\n",
    "\n",
    "# Apply the engineering mapping\n",
    "project_df[\"FieldOfScienceViaProjectMapping\"] = project_df[\"File\"].isin(PROJECT_MAPPING.keys())\n",
    "project_df[\"FinalFieldOfScience\"] = project_df[\"FinalFieldOfScience\"].fillna(project_df[\"File\"].map(PROJECT_MAPPING))\n",
    "\n",
    "# Matching Stats\n",
    "print(f\"Mapped an additional {project_df['FieldOfScienceViaProjectMapping'].sum()} Fields of Science that were mapped correctly in the original mapping file.\")\n",
    "print(f\"Final Field of Science is still missing for {len(project_df[project_df['FinalFieldOfScience'].isna() & ~(project_df['File'].isin(PROJECT_MAPPING))])}/{len(project_df['FinalFieldOfScience'])} projects.\")"
   ],
   "metadata": {
    "collapsed": false,
    "ExecuteTime": {
     "end_time": "2023-11-23T00:39:01.142691Z",
     "start_time": "2023-11-23T00:39:01.106496Z"
    }
   },
   "id": "9b906a78dfbcc597"
  },
  {
   "cell_type": "markdown",
   "source": [
    "### Do final check"
   ],
   "metadata": {
    "collapsed": false
   },
   "id": "8f3e12822ada109"
  },
  {
   "cell_type": "code",
   "execution_count": 211,
   "outputs": [
    {
     "name": "stdout",
     "output_type": "stream",
     "text": [
      "Passed: All Projects have been assigned a valid FOS\n"
     ]
    }
   ],
   "source": [
    "ALL_VALID_FIELDS_OF_SCIENCE = [*VALID_FIELDS_FROM_PDF, None, \"Multidisciplinary/ interdisciplinary sciences\"]\n",
    "\n",
    "if len(project_df[~project_df[\"FinalFieldOfScience\"].isin(ALL_VALID_FIELDS_OF_SCIENCE)]) == 1:\n",
    "    print(\"Passed: All Projects have been assigned a valid FOS\")\n",
    "else: \n",
    "    print(\"Failed\")"
   ],
   "metadata": {
    "collapsed": false,
    "ExecuteTime": {
     "end_time": "2023-11-23T00:39:01.161241Z",
     "start_time": "2023-11-23T00:39:01.110438Z"
    }
   },
   "id": "cc5be7d723d28fb5"
  },
  {
   "cell_type": "code",
   "execution_count": 212,
   "outputs": [
    {
     "data": {
      "text/plain": "              File    ID  Name PIName Department FieldOfScience  \\\n834  _CAMPUS_GRIDS  None  None   None       None           None   \n\n    FinalFieldOfScience  FieldOfScienceIsCorrectCasingIndependent  \\\n834                 NaN                                     False   \n\n     FieldOfScienceViaMappingFile  FieldOfScienceViaHandMapping  \\\n834                         False                         False   \n\n     FieldOfScienceViaMultiScienceCommunity  FieldOfScienceViaProjectMapping  \n834                                   False                            False  ",
      "text/html": "<div>\n<style scoped>\n    .dataframe tbody tr th:only-of-type {\n        vertical-align: middle;\n    }\n\n    .dataframe tbody tr th {\n        vertical-align: top;\n    }\n\n    .dataframe thead th {\n        text-align: right;\n    }\n</style>\n<table border=\"1\" class=\"dataframe\">\n  <thead>\n    <tr style=\"text-align: right;\">\n      <th></th>\n      <th>File</th>\n      <th>ID</th>\n      <th>Name</th>\n      <th>PIName</th>\n      <th>Department</th>\n      <th>FieldOfScience</th>\n      <th>FinalFieldOfScience</th>\n      <th>FieldOfScienceIsCorrectCasingIndependent</th>\n      <th>FieldOfScienceViaMappingFile</th>\n      <th>FieldOfScienceViaHandMapping</th>\n      <th>FieldOfScienceViaMultiScienceCommunity</th>\n      <th>FieldOfScienceViaProjectMapping</th>\n    </tr>\n  </thead>\n  <tbody>\n    <tr>\n      <th>834</th>\n      <td>_CAMPUS_GRIDS</td>\n      <td>None</td>\n      <td>None</td>\n      <td>None</td>\n      <td>None</td>\n      <td>None</td>\n      <td>NaN</td>\n      <td>False</td>\n      <td>False</td>\n      <td>False</td>\n      <td>False</td>\n      <td>False</td>\n    </tr>\n  </tbody>\n</table>\n</div>"
     },
     "execution_count": 212,
     "metadata": {},
     "output_type": "execute_result"
    }
   ],
   "source": [
    "project_df[~project_df[\"FinalFieldOfScience\"].isin(ALL_VALID_FIELDS_OF_SCIENCE)]"
   ],
   "metadata": {
    "collapsed": false,
    "ExecuteTime": {
     "end_time": "2023-11-23T00:39:01.161789Z",
     "start_time": "2023-11-23T00:39:01.117270Z"
    }
   },
   "id": "fe24910aaac8205b"
  },
  {
   "cell_type": "code",
   "execution_count": 213,
   "outputs": [],
   "source": [
    "# Export\n",
    "project_df[project_df[\"FinalFieldOfScience\"].isin(ALL_VALID_FIELDS_OF_SCIENCE)].to_excel(\"ProjectMapping.xlsx\", index=False)"
   ],
   "metadata": {
    "collapsed": false,
    "ExecuteTime": {
     "end_time": "2023-11-23T00:39:01.380409Z",
     "start_time": "2023-11-23T00:39:01.122148Z"
    }
   },
   "id": "2b8d51ebb6b34a10"
  },
  {
   "cell_type": "code",
   "execution_count": 214,
   "outputs": [],
   "source": [
    "import re\n",
    "\n",
    "# Apply the new mapping \n",
    "\n",
    "for project_path in project_paths:\n",
    "    \n",
    "    # Get the project file name, filter out non yaml files and non project files\n",
    "    project_file = project_path.split(\"/\")[-1]\n",
    "    if not project_file.endswith(\".yaml\") or project_file == \"_CAMPUS_GRIDS.yaml\":\n",
    "        continue\n",
    "\n",
    "    project_file_name = project_file.split(\".\")[0]\n",
    "        \n",
    "    # Grab a dict of this projects row in the project df\n",
    "    project_row = project_df[project_df['File'] == project_file_name].to_dict(orient='records')[0]\n",
    "    \n",
    "    # Grab the data pre change\n",
    "    project_data = yaml.load(open(project_path, \"r\"), Loader=yaml.FullLoader)\n",
    "    \n",
    "    # Replace the FieldOfScience\n",
    "    text = open(project_path, \"r\").read()\n",
    "    pattern = r'FieldOfScience:.*'\n",
    "    replaced_text = None\n",
    "    if project_row[\"FinalFieldOfScience\"] is not None:\n",
    "        replaced_text = re.sub(pattern, f\"FieldOfScience: {project_row['FinalFieldOfScience']}\", text)\n",
    "    else:\n",
    "        replaced_text = re.sub(pattern, f\"\", text)\n",
    "    open(project_path, \"w\").write(replaced_text)\n",
    "    \n",
    "    updated_project_data = yaml.load(open(project_path, \"r\"), Loader=yaml.FullLoader)\n",
    "    \n",
    "    # Check that the Field of Science has been appropriately updated\n",
    "    if updated_project_data.get('FieldOfScience', None) != project_row['FinalFieldOfScience']:\n",
    "        raise Exception(\"Field of Science not updated correctly\")\n",
    "    \n",
    "    # Check that the content other than the Field of Science is the same\n",
    "    updated_project_data.pop(\"FieldOfScience\", None)\n",
    "    project_data.pop(\"FieldOfScience\", None)\n",
    "    if updated_project_data != project_data:\n",
    "        raise Exception(\"Other contents have been changed as a result of the FieldOfScience update\")\n",
    "        \n"
   ],
   "metadata": {
    "collapsed": false,
    "ExecuteTime": {
     "end_time": "2023-11-23T00:39:04.082696Z",
     "start_time": "2023-11-23T00:39:01.385098Z"
    }
   },
   "id": "61fc5d97dcc40f61"
  },
  {
   "cell_type": "code",
   "execution_count": 215,
   "outputs": [],
   "source": [
    "# One final check\n",
    "for project_path in project_paths:\n",
    "    \n",
    "    project_file = project_path.split(\"/\")[-1]\n",
    "    if not project_path.endswith(\".yaml\") or project_file == \"_CAMPUS_GRIDS.yaml\":\n",
    "        continue\n",
    "    \n",
    "    project_data = yaml.load(open(project_path, \"r\"), Loader=yaml.FullLoader)\n",
    "    if project_data.get(\"FieldOfScience\", None) not in ALL_VALID_FIELDS_OF_SCIENCE:\n",
    "        raise Exception(\"Invalid Field of Science in projects yaml\")"
   ],
   "metadata": {
    "collapsed": false,
    "ExecuteTime": {
     "end_time": "2023-11-23T00:39:04.680524Z",
     "start_time": "2023-11-23T00:39:04.085367Z"
    }
   },
   "id": "ea0894e857f520bb"
  },
  {
   "cell_type": "code",
   "execution_count": 216,
   "outputs": [
    {
     "data": {
      "text/plain": "['Agricultural sciences',\n 'Biological sciences',\n 'Atmospheric sciences',\n 'Earth and ocean sciences',\n 'Computer sciences',\n 'Mathematics',\n 'Astronomy',\n 'Chemistry',\n 'Physics',\n 'Other physical sciences',\n 'Psychology',\n 'Economics',\n 'Political science',\n 'Sociology',\n 'Other social sciences',\n 'Aeronautical/Astronautical engineering',\n 'Chemical engineering',\n 'Civil engineering',\n 'Electrical, electronics and communications engineering',\n 'Industrial and manufacturing engineering',\n 'Materials science engineering',\n 'Mechanical engineering',\n 'Other engineering',\n 'Engineering technology',\n 'Health',\n 'Education',\n 'Humanities',\n 'Business management/administration',\n 'Communication',\n 'Other non-science and engineering/unknown',\n None,\n 'Multidisciplinary/ interdisciplinary sciences']"
     },
     "execution_count": 216,
     "metadata": {},
     "output_type": "execute_result"
    }
   ],
   "source": [
    "ALL_VALID_FIELDS_OF_SCIENCE"
   ],
   "metadata": {
    "collapsed": false,
    "ExecuteTime": {
     "end_time": "2023-11-23T00:39:04.694791Z",
     "start_time": "2023-11-23T00:39:04.682073Z"
    }
   },
   "id": "fb97f1b5f03fac5c"
  }
 ],
 "metadata": {
  "kernelspec": {
   "display_name": "Python 3",
   "language": "python",
   "name": "python3"
  },
  "language_info": {
   "codemirror_mode": {
    "name": "ipython",
    "version": 2
   },
   "file_extension": ".py",
   "mimetype": "text/x-python",
   "name": "python",
   "nbconvert_exporter": "python",
   "pygments_lexer": "ipython2",
   "version": "2.7.6"
  }
 },
 "nbformat": 4,
 "nbformat_minor": 5
}
